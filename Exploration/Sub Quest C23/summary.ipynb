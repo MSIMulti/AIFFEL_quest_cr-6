{
 "cells": [
  {
   "cell_type": "code",
   "execution_count": 1,
   "id": "1db98ef9",
   "metadata": {},
   "outputs": [
    {
     "name": "stderr",
     "output_type": "stream",
     "text": [
      "[nltk_data] Downloading package stopwords to /aiffel/nltk_data...\n",
      "[nltk_data]   Unzipping corpora/stopwords.zip.\n"
     ]
    },
    {
     "name": "stdout",
     "output_type": "stream",
     "text": [
      "=3\n"
     ]
    }
   ],
   "source": [
    "import nltk\n",
    "nltk.download('stopwords')\n",
    "\n",
    "import numpy as np\n",
    "import pandas as pd\n",
    "import os\n",
    "import re\n",
    "import matplotlib.pyplot as plt\n",
    "from nltk.corpus import stopwords\n",
    "from bs4 import BeautifulSoup \n",
    "from tensorflow.keras.preprocessing.text import Tokenizer \n",
    "from tensorflow.keras.preprocessing.sequence import pad_sequences\n",
    "import urllib.request\n",
    "import warnings\n",
    "warnings.filterwarnings(\"ignore\", category=UserWarning, module='bs4')\n",
    "\n",
    "print('=3')"
   ]
  },
  {
   "cell_type": "code",
   "execution_count": 2,
   "id": "8837a31e",
   "metadata": {},
   "outputs": [
    {
     "name": "stdout",
     "output_type": "stream",
     "text": [
      "File downloaded to: /aiffel/aiffel/data/news_summary_more.csv\n"
     ]
    }
   ],
   "source": [
    "from importlib.metadata import version\n",
    "import urllib.request\n",
    "\n",
    "# 저장 경로 설정\n",
    "save_path = os.path.join(os.getenv(\"HOME\"), \"aiffel/data/news_summary_more.csv\")\n",
    "\n",
    "# 파일 다운로드\n",
    "urllib.request.urlretrieve(\n",
    "    \"https://raw.githubusercontent.com/sunnysai12345/News_Summary/master/news_summary_more.csv\",\n",
    "    filename=save_path\n",
    ")\n",
    "\n",
    "print(f\"File downloaded to: {save_path}\")\n"
   ]
  },
  {
   "cell_type": "code",
   "execution_count": 3,
   "id": "90890d4c",
   "metadata": {},
   "outputs": [
    {
     "data": {
      "text/html": [
       "<div>\n",
       "<style scoped>\n",
       "    .dataframe tbody tr th:only-of-type {\n",
       "        vertical-align: middle;\n",
       "    }\n",
       "\n",
       "    .dataframe tbody tr th {\n",
       "        vertical-align: top;\n",
       "    }\n",
       "\n",
       "    .dataframe thead th {\n",
       "        text-align: right;\n",
       "    }\n",
       "</style>\n",
       "<table border=\"1\" class=\"dataframe\">\n",
       "  <thead>\n",
       "    <tr style=\"text-align: right;\">\n",
       "      <th></th>\n",
       "      <th>headlines</th>\n",
       "      <th>text</th>\n",
       "    </tr>\n",
       "  </thead>\n",
       "  <tbody>\n",
       "    <tr>\n",
       "      <th>73239</th>\n",
       "      <td>Facebook, Instagram users in US and Europe fac...</td>\n",
       "      <td>Some users of Facebook and Facebook-owned phot...</td>\n",
       "    </tr>\n",
       "    <tr>\n",
       "      <th>19494</th>\n",
       "      <td>J&amp;K Governor Satya Pal Malik hamara banda hai:...</td>\n",
       "      <td>Days after Jammu and Kashmir Governor Satya Pa...</td>\n",
       "    </tr>\n",
       "    <tr>\n",
       "      <th>64251</th>\n",
       "      <td>Pune curator sacked over pitch-fixing hours be...</td>\n",
       "      <td>Maharashtra Cricket Association Stadium pitch ...</td>\n",
       "    </tr>\n",
       "    <tr>\n",
       "      <th>7</th>\n",
       "      <td>Govt directs Alok Verma to join work 1 day bef...</td>\n",
       "      <td>Weeks after ex-CBI Director Alok Verma told th...</td>\n",
       "    </tr>\n",
       "    <tr>\n",
       "      <th>59640</th>\n",
       "      <td>Fans protest ticket price by throwing fake mon...</td>\n",
       "      <td>Bayern Munich's supporters threw fake money on...</td>\n",
       "    </tr>\n",
       "    <tr>\n",
       "      <th>85572</th>\n",
       "      <td>Shah Rukh Khan to buy T20 club in South Africa...</td>\n",
       "      <td>As per reports, actor Shah Rukh Khan is set to...</td>\n",
       "    </tr>\n",
       "    <tr>\n",
       "      <th>46455</th>\n",
       "      <td>ShouldnÃ¢ÂÂt kill innovation for privacy: Mi...</td>\n",
       "      <td>Union Minister for Law and Information Technol...</td>\n",
       "    </tr>\n",
       "    <tr>\n",
       "      <th>53255</th>\n",
       "      <td>Terrorists planned to attack Akshardham temple...</td>\n",
       "      <td>Suspected terrorist Bilal Wani on Monday discl...</td>\n",
       "    </tr>\n",
       "    <tr>\n",
       "      <th>64675</th>\n",
       "      <td>Congress 'mortgaged' party to RJD in Bihar: Su...</td>\n",
       "      <td>Bihar Deputy Chief Minister Sushil Kumar Modi ...</td>\n",
       "    </tr>\n",
       "    <tr>\n",
       "      <th>95202</th>\n",
       "      <td>New Zealand cricketer handed two-year ban for ...</td>\n",
       "      <td>New Zealand cricketer, Adam King, has been han...</td>\n",
       "    </tr>\n",
       "  </tbody>\n",
       "</table>\n",
       "</div>"
      ],
      "text/plain": [
       "                                               headlines  \\\n",
       "73239  Facebook, Instagram users in US and Europe fac...   \n",
       "19494  J&K Governor Satya Pal Malik hamara banda hai:...   \n",
       "64251  Pune curator sacked over pitch-fixing hours be...   \n",
       "7      Govt directs Alok Verma to join work 1 day bef...   \n",
       "59640  Fans protest ticket price by throwing fake mon...   \n",
       "85572  Shah Rukh Khan to buy T20 club in South Africa...   \n",
       "46455  ShouldnÃ¢ÂÂt kill innovation for privacy: Mi...   \n",
       "53255  Terrorists planned to attack Akshardham temple...   \n",
       "64675  Congress 'mortgaged' party to RJD in Bihar: Su...   \n",
       "95202  New Zealand cricketer handed two-year ban for ...   \n",
       "\n",
       "                                                    text  \n",
       "73239  Some users of Facebook and Facebook-owned phot...  \n",
       "19494  Days after Jammu and Kashmir Governor Satya Pa...  \n",
       "64251  Maharashtra Cricket Association Stadium pitch ...  \n",
       "7      Weeks after ex-CBI Director Alok Verma told th...  \n",
       "59640  Bayern Munich's supporters threw fake money on...  \n",
       "85572  As per reports, actor Shah Rukh Khan is set to...  \n",
       "46455  Union Minister for Law and Information Technol...  \n",
       "53255  Suspected terrorist Bilal Wani on Monday discl...  \n",
       "64675  Bihar Deputy Chief Minister Sushil Kumar Modi ...  \n",
       "95202  New Zealand cricketer, Adam King, has been han...  "
      ]
     },
     "execution_count": 3,
     "metadata": {},
     "output_type": "execute_result"
    }
   ],
   "source": [
    "data = pd.read_csv(os.getenv(\"HOME\")+\"/aiffel/data/news_summary_more.csv\", encoding='iso-8859-1', on_bad_lines='skip')\n",
    "data.sample(10)"
   ]
  },
  {
   "cell_type": "code",
   "execution_count": 4,
   "id": "a1dd13d0",
   "metadata": {},
   "outputs": [
    {
     "data": {
      "text/html": [
       "<div>\n",
       "<style scoped>\n",
       "    .dataframe tbody tr th:only-of-type {\n",
       "        vertical-align: middle;\n",
       "    }\n",
       "\n",
       "    .dataframe tbody tr th {\n",
       "        vertical-align: top;\n",
       "    }\n",
       "\n",
       "    .dataframe thead th {\n",
       "        text-align: right;\n",
       "    }\n",
       "</style>\n",
       "<table border=\"1\" class=\"dataframe\">\n",
       "  <thead>\n",
       "    <tr style=\"text-align: right;\">\n",
       "      <th></th>\n",
       "      <th>headlines</th>\n",
       "      <th>text</th>\n",
       "    </tr>\n",
       "  </thead>\n",
       "  <tbody>\n",
       "    <tr>\n",
       "      <th>0</th>\n",
       "      <td>upGrad learner switches to career in ML &amp; Al w...</td>\n",
       "      <td>Saurav Kant, an alumnus of upGrad and IIIT-B's...</td>\n",
       "    </tr>\n",
       "    <tr>\n",
       "      <th>1</th>\n",
       "      <td>Delhi techie wins free food from Swiggy for on...</td>\n",
       "      <td>Kunal Shah's credit card bill payment platform...</td>\n",
       "    </tr>\n",
       "    <tr>\n",
       "      <th>2</th>\n",
       "      <td>New Zealand end Rohit Sharma-led India's 12-ma...</td>\n",
       "      <td>New Zealand defeated India by 8 wickets in the...</td>\n",
       "    </tr>\n",
       "    <tr>\n",
       "      <th>3</th>\n",
       "      <td>Aegon life iTerm insurance plan helps customer...</td>\n",
       "      <td>With Aegon Life iTerm Insurance plan, customer...</td>\n",
       "    </tr>\n",
       "    <tr>\n",
       "      <th>4</th>\n",
       "      <td>Have known Hirani for yrs, what if MeToo claim...</td>\n",
       "      <td>Speaking about the sexual harassment allegatio...</td>\n",
       "    </tr>\n",
       "  </tbody>\n",
       "</table>\n",
       "</div>"
      ],
      "text/plain": [
       "                                           headlines  \\\n",
       "0  upGrad learner switches to career in ML & Al w...   \n",
       "1  Delhi techie wins free food from Swiggy for on...   \n",
       "2  New Zealand end Rohit Sharma-led India's 12-ma...   \n",
       "3  Aegon life iTerm insurance plan helps customer...   \n",
       "4  Have known Hirani for yrs, what if MeToo claim...   \n",
       "\n",
       "                                                text  \n",
       "0  Saurav Kant, an alumnus of upGrad and IIIT-B's...  \n",
       "1  Kunal Shah's credit card bill payment platform...  \n",
       "2  New Zealand defeated India by 8 wickets in the...  \n",
       "3  With Aegon Life iTerm Insurance plan, customer...  \n",
       "4  Speaking about the sexual harassment allegatio...  "
      ]
     },
     "execution_count": 4,
     "metadata": {},
     "output_type": "execute_result"
    }
   ],
   "source": [
    "data.head()"
   ]
  },
  {
   "cell_type": "code",
   "execution_count": 5,
   "id": "30843ac6",
   "metadata": {},
   "outputs": [
    {
     "data": {
      "text/html": [
       "<div>\n",
       "<style scoped>\n",
       "    .dataframe tbody tr th:only-of-type {\n",
       "        vertical-align: middle;\n",
       "    }\n",
       "\n",
       "    .dataframe tbody tr th {\n",
       "        vertical-align: top;\n",
       "    }\n",
       "\n",
       "    .dataframe thead th {\n",
       "        text-align: right;\n",
       "    }\n",
       "</style>\n",
       "<table border=\"1\" class=\"dataframe\">\n",
       "  <thead>\n",
       "    <tr style=\"text-align: right;\">\n",
       "      <th></th>\n",
       "      <th>text</th>\n",
       "      <th>headlines</th>\n",
       "    </tr>\n",
       "  </thead>\n",
       "  <tbody>\n",
       "    <tr>\n",
       "      <th>67090</th>\n",
       "      <td>US Secretary of State Rex Tillerson referred t...</td>\n",
       "      <td>US State Secy Tillerson called Trump a moron: ...</td>\n",
       "    </tr>\n",
       "    <tr>\n",
       "      <th>9663</th>\n",
       "      <td>Filipino actress and Miss International 2013 w...</td>\n",
       "      <td>Was molested by priest when I was a child: Mis...</td>\n",
       "    </tr>\n",
       "    <tr>\n",
       "      <th>17729</th>\n",
       "      <td>The Bishop accused of raping a Kerala nun has ...</td>\n",
       "      <td>Nun's rape story a blackmail for better positi...</td>\n",
       "    </tr>\n",
       "    <tr>\n",
       "      <th>1925</th>\n",
       "      <td>Actor Ranveer Singh, on being asked about his ...</td>\n",
       "      <td>Dropped surname, need new one; jokes Ranveer o...</td>\n",
       "    </tr>\n",
       "    <tr>\n",
       "      <th>21044</th>\n",
       "      <td>Following the roka ceremony of Priyanka Chopra...</td>\n",
       "      <td>Nick is Nation's Jiju, tweets user on Priyanka...</td>\n",
       "    </tr>\n",
       "    <tr>\n",
       "      <th>95320</th>\n",
       "      <td>Bihar Chief Minister Nitish Kumar on Monday sa...</td>\n",
       "      <td>Bihar's model of Grand Alliance can defeat BJP...</td>\n",
       "    </tr>\n",
       "    <tr>\n",
       "      <th>13033</th>\n",
       "      <td>Indian Railways has started the work to constr...</td>\n",
       "      <td>Indian Railways to build world's highest rail ...</td>\n",
       "    </tr>\n",
       "    <tr>\n",
       "      <th>79943</th>\n",
       "      <td>The European Union will limit the sale of infl...</td>\n",
       "      <td>EU limits inflatable boats sale to Libya to st...</td>\n",
       "    </tr>\n",
       "    <tr>\n",
       "      <th>18650</th>\n",
       "      <td>New York-based Tiger Global will reportedly ma...</td>\n",
       "      <td>Tiger Global to invest in India from $3 billio...</td>\n",
       "    </tr>\n",
       "    <tr>\n",
       "      <th>44720</th>\n",
       "      <td>About 2,500 flights were cancelled after the s...</td>\n",
       "      <td>2,500 flights cancelled as winter storm hits n...</td>\n",
       "    </tr>\n",
       "    <tr>\n",
       "      <th>68541</th>\n",
       "      <td>Commenting on the security of women on campus,...</td>\n",
       "      <td>Even we aren't safe in BHU, all scared of boys...</td>\n",
       "    </tr>\n",
       "    <tr>\n",
       "      <th>58700</th>\n",
       "      <td>Security agencies at Mumbai's Chhatrapati Shiv...</td>\n",
       "      <td>Note found at Mumbai airport warns of ISIS att...</td>\n",
       "    </tr>\n",
       "    <tr>\n",
       "      <th>86879</th>\n",
       "      <td>US comedian Kathy Griffin has apologised for a...</td>\n",
       "      <td>US comedian Kathy Griffin apologises for behea...</td>\n",
       "    </tr>\n",
       "    <tr>\n",
       "      <th>54812</th>\n",
       "      <td>Singer Rihanna has called for an end to gun vi...</td>\n",
       "      <td>Rihanna calls for end to gun violence after co...</td>\n",
       "    </tr>\n",
       "    <tr>\n",
       "      <th>56742</th>\n",
       "      <td>Social activist Anna Hazare has said he hoped ...</td>\n",
       "      <td>Hope no Kejriwal emerges from my movement agai...</td>\n",
       "    </tr>\n",
       "  </tbody>\n",
       "</table>\n",
       "</div>"
      ],
      "text/plain": [
       "                                                    text  \\\n",
       "67090  US Secretary of State Rex Tillerson referred t...   \n",
       "9663   Filipino actress and Miss International 2013 w...   \n",
       "17729  The Bishop accused of raping a Kerala nun has ...   \n",
       "1925   Actor Ranveer Singh, on being asked about his ...   \n",
       "21044  Following the roka ceremony of Priyanka Chopra...   \n",
       "95320  Bihar Chief Minister Nitish Kumar on Monday sa...   \n",
       "13033  Indian Railways has started the work to constr...   \n",
       "79943  The European Union will limit the sale of infl...   \n",
       "18650  New York-based Tiger Global will reportedly ma...   \n",
       "44720  About 2,500 flights were cancelled after the s...   \n",
       "68541  Commenting on the security of women on campus,...   \n",
       "58700  Security agencies at Mumbai's Chhatrapati Shiv...   \n",
       "86879  US comedian Kathy Griffin has apologised for a...   \n",
       "54812  Singer Rihanna has called for an end to gun vi...   \n",
       "56742  Social activist Anna Hazare has said he hoped ...   \n",
       "\n",
       "                                               headlines  \n",
       "67090  US State Secy Tillerson called Trump a moron: ...  \n",
       "9663   Was molested by priest when I was a child: Mis...  \n",
       "17729  Nun's rape story a blackmail for better positi...  \n",
       "1925   Dropped surname, need new one; jokes Ranveer o...  \n",
       "21044  Nick is Nation's Jiju, tweets user on Priyanka...  \n",
       "95320  Bihar's model of Grand Alliance can defeat BJP...  \n",
       "13033  Indian Railways to build world's highest rail ...  \n",
       "79943  EU limits inflatable boats sale to Libya to st...  \n",
       "18650  Tiger Global to invest in India from $3 billio...  \n",
       "44720  2,500 flights cancelled as winter storm hits n...  \n",
       "68541  Even we aren't safe in BHU, all scared of boys...  \n",
       "58700  Note found at Mumbai airport warns of ISIS att...  \n",
       "86879  US comedian Kathy Griffin apologises for behea...  \n",
       "54812  Rihanna calls for end to gun violence after co...  \n",
       "56742  Hope no Kejriwal emerges from my movement agai...  "
      ]
     },
     "execution_count": 5,
     "metadata": {},
     "output_type": "execute_result"
    }
   ],
   "source": [
    "data = data[['text', 'headlines']]\n",
    "data.head()\n",
    "\n",
    "#랜덤한 15개 샘플 출력\n",
    "data.sample(15)"
   ]
  },
  {
   "cell_type": "code",
   "execution_count": 6,
   "id": "443f8ff9",
   "metadata": {},
   "outputs": [
    {
     "name": "stdout",
     "output_type": "stream",
     "text": [
      "Text 열에서 중복을 배제한 유일한 샘플의 수 : 98360\n",
      "headlines 열에서 중복을 배제한 유일한 샘플의 수 : 98280\n"
     ]
    }
   ],
   "source": [
    "print('Text 열에서 중복을 배제한 유일한 샘플의 수 :', data['text'].nunique())\n",
    "print('headlines 열에서 중복을 배제한 유일한 샘플의 수 :', data['headlines'].nunique())"
   ]
  },
  {
   "cell_type": "code",
   "execution_count": 7,
   "id": "c995f20f",
   "metadata": {},
   "outputs": [
    {
     "name": "stdout",
     "output_type": "stream",
     "text": [
      "전체 샘플수 : 98360\n"
     ]
    }
   ],
   "source": [
    "# inplace=True 를 설정하면 DataFrame 타입 값을 return 하지 않고 data 내부를 직접적으로 바꿉니다\n",
    "data.drop_duplicates(subset = ['text'], inplace=True)\n",
    "print('전체 샘플수 :', (len(data)))"
   ]
  },
  {
   "cell_type": "code",
   "execution_count": 8,
   "id": "ad9f7191",
   "metadata": {},
   "outputs": [
    {
     "name": "stdout",
     "output_type": "stream",
     "text": [
      "text         0\n",
      "headlines    0\n",
      "dtype: int64\n"
     ]
    }
   ],
   "source": [
    "print(data.isnull().sum())"
   ]
  },
  {
   "cell_type": "code",
   "execution_count": 9,
   "id": "e69d7c91",
   "metadata": {},
   "outputs": [
    {
     "name": "stdout",
     "output_type": "stream",
     "text": [
      "전체 샘플수 : 98360\n"
     ]
    }
   ],
   "source": [
    "data.dropna(axis=0, inplace=True)\n",
    "print('전체 샘플수 :', (len(data)))"
   ]
  },
  {
   "cell_type": "code",
   "execution_count": 10,
   "id": "d14b3554",
   "metadata": {},
   "outputs": [
    {
     "name": "stdout",
     "output_type": "stream",
     "text": [
      "정규화 사전의 수:  120\n"
     ]
    }
   ],
   "source": [
    "contractions = {\"ain't\": \"is not\", \"aren't\": \"are not\",\"can't\": \"cannot\", \"'cause\": \"because\", \"could've\": \"could have\", \"couldn't\": \"could not\",\n",
    "                           \"didn't\": \"did not\",  \"doesn't\": \"does not\", \"don't\": \"do not\", \"hadn't\": \"had not\", \"hasn't\": \"has not\", \"haven't\": \"have not\",\n",
    "                           \"he'd\": \"he would\",\"he'll\": \"he will\", \"he's\": \"he is\", \"how'd\": \"how did\", \"how'd'y\": \"how do you\", \"how'll\": \"how will\", \"how's\": \"how is\",\n",
    "                           \"I'd\": \"I would\", \"I'd've\": \"I would have\", \"I'll\": \"I will\", \"I'll've\": \"I will have\",\"I'm\": \"I am\", \"I've\": \"I have\", \"i'd\": \"i would\",\n",
    "                           \"i'd've\": \"i would have\", \"i'll\": \"i will\",  \"i'll've\": \"i will have\",\"i'm\": \"i am\", \"i've\": \"i have\", \"isn't\": \"is not\", \"it'd\": \"it would\",\n",
    "                           \"it'd've\": \"it would have\", \"it'll\": \"it will\", \"it'll've\": \"it will have\",\"it's\": \"it is\", \"let's\": \"let us\", \"ma'am\": \"madam\",\n",
    "                           \"mayn't\": \"may not\", \"might've\": \"might have\",\"mightn't\": \"might not\",\"mightn't've\": \"might not have\", \"must've\": \"must have\",\n",
    "                           \"mustn't\": \"must not\", \"mustn't've\": \"must not have\", \"needn't\": \"need not\", \"needn't've\": \"need not have\",\"o'clock\": \"of the clock\",\n",
    "                           \"oughtn't\": \"ought not\", \"oughtn't've\": \"ought not have\", \"shan't\": \"shall not\", \"sha'n't\": \"shall not\", \"shan't've\": \"shall not have\",\n",
    "                           \"she'd\": \"she would\", \"she'd've\": \"she would have\", \"she'll\": \"she will\", \"she'll've\": \"she will have\", \"she's\": \"she is\",\n",
    "                           \"should've\": \"should have\", \"shouldn't\": \"should not\", \"shouldn't've\": \"should not have\", \"so've\": \"so have\",\"so's\": \"so as\",\n",
    "                           \"this's\": \"this is\",\"that'd\": \"that would\", \"that'd've\": \"that would have\", \"that's\": \"that is\", \"there'd\": \"there would\",\n",
    "                           \"there'd've\": \"there would have\", \"there's\": \"there is\", \"here's\": \"here is\",\"they'd\": \"they would\", \"they'd've\": \"they would have\",\n",
    "                           \"they'll\": \"they will\", \"they'll've\": \"they will have\", \"they're\": \"they are\", \"they've\": \"they have\", \"to've\": \"to have\",\n",
    "                           \"wasn't\": \"was not\", \"we'd\": \"we would\", \"we'd've\": \"we would have\", \"we'll\": \"we will\", \"we'll've\": \"we will have\", \"we're\": \"we are\",\n",
    "                           \"we've\": \"we have\", \"weren't\": \"were not\", \"what'll\": \"what will\", \"what'll've\": \"what will have\", \"what're\": \"what are\",\n",
    "                           \"what's\": \"what is\", \"what've\": \"what have\", \"when's\": \"when is\", \"when've\": \"when have\", \"where'd\": \"where did\", \"where's\": \"where is\",\n",
    "                           \"where've\": \"where have\", \"who'll\": \"who will\", \"who'll've\": \"who will have\", \"who's\": \"who is\", \"who've\": \"who have\",\n",
    "                           \"why's\": \"why is\", \"why've\": \"why have\", \"will've\": \"will have\", \"won't\": \"will not\", \"won't've\": \"will not have\",\n",
    "                           \"would've\": \"would have\", \"wouldn't\": \"would not\", \"wouldn't've\": \"would not have\", \"y'all\": \"you all\",\n",
    "                           \"y'all'd\": \"you all would\",\"y'all'd've\": \"you all would have\",\"y'all're\": \"you all are\",\"y'all've\": \"you all have\",\n",
    "                           \"you'd\": \"you would\", \"you'd've\": \"you would have\", \"you'll\": \"you will\", \"you'll've\": \"you will have\",\n",
    "                           \"you're\": \"you are\", \"you've\": \"you have\"}\n",
    "\n",
    "print(\"정규화 사전의 수: \", len(contractions))"
   ]
  },
  {
   "cell_type": "code",
   "execution_count": 11,
   "id": "39499952",
   "metadata": {},
   "outputs": [
    {
     "name": "stdout",
     "output_type": "stream",
     "text": [
      "불용어 개수 : 179\n",
      "['i', 'me', 'my', 'myself', 'we', 'our', 'ours', 'ourselves', 'you', \"you're\", \"you've\", \"you'll\", \"you'd\", 'your', 'yours', 'yourself', 'yourselves', 'he', 'him', 'his', 'himself', 'she', \"she's\", 'her', 'hers', 'herself', 'it', \"it's\", 'its', 'itself', 'they', 'them', 'their', 'theirs', 'themselves', 'what', 'which', 'who', 'whom', 'this', 'that', \"that'll\", 'these', 'those', 'am', 'is', 'are', 'was', 'were', 'be', 'been', 'being', 'have', 'has', 'had', 'having', 'do', 'does', 'did', 'doing', 'a', 'an', 'the', 'and', 'but', 'if', 'or', 'because', 'as', 'until', 'while', 'of', 'at', 'by', 'for', 'with', 'about', 'against', 'between', 'into', 'through', 'during', 'before', 'after', 'above', 'below', 'to', 'from', 'up', 'down', 'in', 'out', 'on', 'off', 'over', 'under', 'again', 'further', 'then', 'once', 'here', 'there', 'when', 'where', 'why', 'how', 'all', 'any', 'both', 'each', 'few', 'more', 'most', 'other', 'some', 'such', 'no', 'nor', 'not', 'only', 'own', 'same', 'so', 'than', 'too', 'very', 's', 't', 'can', 'will', 'just', 'don', \"don't\", 'should', \"should've\", 'now', 'd', 'll', 'm', 'o', 're', 've', 'y', 'ain', 'aren', \"aren't\", 'couldn', \"couldn't\", 'didn', \"didn't\", 'doesn', \"doesn't\", 'hadn', \"hadn't\", 'hasn', \"hasn't\", 'haven', \"haven't\", 'isn', \"isn't\", 'ma', 'mightn', \"mightn't\", 'mustn', \"mustn't\", 'needn', \"needn't\", 'shan', \"shan't\", 'shouldn', \"shouldn't\", 'wasn', \"wasn't\", 'weren', \"weren't\", 'won', \"won't\", 'wouldn', \"wouldn't\"]\n"
     ]
    }
   ],
   "source": [
    "print('불용어 개수 :', len(stopwords.words('english') ))\n",
    "print(stopwords.words('english'))"
   ]
  },
  {
   "cell_type": "code",
   "execution_count": 12,
   "id": "6380919c",
   "metadata": {},
   "outputs": [
    {
     "name": "stdout",
     "output_type": "stream",
     "text": [
      "=3\n"
     ]
    }
   ],
   "source": [
    "# 데이터 전처리 함수\n",
    "def preprocess_sentence(sentence, remove_stopwords=True):\n",
    "    sentence = sentence.lower() # 텍스트 소문자화\n",
    "    sentence = BeautifulSoup(sentence, \"lxml\").text # <br />, <a href = ...> 등의 html 태그 제거\n",
    "    sentence = re.sub(r'\\([^)]*\\)', '', sentence) # 괄호로 닫힌 문자열 (...) 제거 Ex) my husband (and myself!) for => my husband for\n",
    "    sentence = re.sub('\"','', sentence) # 쌍따옴표 \" 제거\n",
    "    sentence = ' '.join([contractions[t] if t in contractions else t for t in sentence.split(\" \")]) # 약어 정규화\n",
    "    sentence = re.sub(r\"'s\\b\",\"\", sentence) # 소유격 제거. Ex) roland's -> roland\n",
    "    sentence = re.sub(\"[^a-zA-Z]\", \" \", sentence) # 영어 외 문자(숫자, 특수문자 등) 공백으로 변환\n",
    "    sentence = re.sub('[m]{2,}', 'mm', sentence) # m이 3개 이상이면 2개로 변경. Ex) ummmmmmm yeah -> umm yeah\n",
    "    \n",
    "    # 불용어 제거 (Text)\n",
    "    if remove_stopwords:\n",
    "        tokens = ' '.join(word for word in sentence.split() if not word in stopwords.words('english') if len(word) > 1)\n",
    "    # 불용어 미제거 (Summary)\n",
    "    else:\n",
    "        tokens = ' '.join(word for word in sentence.split() if len(word) > 1)\n",
    "    return tokens\n",
    "print('=3')"
   ]
  },
  {
   "cell_type": "code",
   "execution_count": 13,
   "id": "9e9c7b79",
   "metadata": {},
   "outputs": [
    {
     "name": "stdout",
     "output_type": "stream",
     "text": [
      "text:  everything bought great infact ordered twice third ordered wasfor mother father\n",
      "headlines: great way to start the day\n"
     ]
    }
   ],
   "source": [
    "temp_text = 'Everything I bought was great, infact I ordered twice and the third ordered was<br />for my mother and father.'\n",
    "temp_headlines = 'Great way to start (or finish) the day!!!'\n",
    "\n",
    "print(\"text: \", preprocess_sentence(temp_text))\n",
    "print(\"headlines:\", preprocess_sentence(temp_headlines, False))  # 불용어를 제거하지 않습니다."
   ]
  },
  {
   "cell_type": "code",
   "execution_count": 14,
   "id": "c2017a04",
   "metadata": {},
   "outputs": [
    {
     "name": "stdout",
     "output_type": "stream",
     "text": [
      "Text 전처리 후 결과:  ['saurav kant alumnus upgrad iiit pg program machine learning artificial intelligence sr systems engineer infosys almost years work experience program upgrad degree career support helped transition data scientist tech mahindra salary hike upgrad online power learning powered lakh careers', 'kunal shah credit card bill payment platform cred gave users chance win free food swiggy one year pranav kaushik delhi techie bagged reward spending cred coins users get one cred coin per rupee bill paid used avail rewards brands like ixigo bookmyshow ubereats cult fit', 'new zealand defeated india wickets fourth odi hamilton thursday win first match five match odi series india lost international match rohit sharma captaincy consecutive victories dating back march match witnessed india getting seventh lowest total odi cricket history', 'aegon life iterm insurance plan customers enjoy tax benefits premiums paid save taxes plan provides life cover age years also customers options insure critical illnesses disability accidental death benefit rider life cover age years', 'speaking sexual harassment allegations rajkumar hirani sonam kapoor said known hirani many years true metoo movement get derailed metoo movement always believe woman case need reserve judgment added hirani accused assistant worked sanju']\n"
     ]
    }
   ],
   "source": [
    "# 전체 Text 데이터에 대한 전처리\n",
    "clean_text = []\n",
    "\n",
    "for sentence in data['text']:\n",
    "    clean_text.append(preprocess_sentence(sentence))\n",
    "\n",
    "# 전처리 후 출력\n",
    "print(\"Text 전처리 후 결과: \", clean_text[:5])"
   ]
  },
  {
   "cell_type": "code",
   "execution_count": 15,
   "id": "66592f0f",
   "metadata": {},
   "outputs": [
    {
     "name": "stdout",
     "output_type": "stream",
     "text": [
      "headlines 전처리 후 결과:  ['upgrad learner switches to career in ml al with salary hike', 'delhi techie wins free food from swiggy for one year on cred', 'new zealand end rohit sharma led india match winning streak', 'aegon life iterm insurance plan helps customers save tax', 'have known hirani for yrs what if metoo claims are not true sonam']\n"
     ]
    }
   ],
   "source": [
    "# 전체 Summary 데이터에 대한 전처리\n",
    "clean_headlines = []\n",
    "\n",
    "for sentence in data['headlines']:\n",
    "    clean_headlines.append(preprocess_sentence(sentence, remove_stopwords=False))\n",
    "\n",
    "# 전처리 후 출력\n",
    "print(\"headlines 전처리 후 결과: \", clean_headlines[:5])"
   ]
  },
  {
   "cell_type": "code",
   "execution_count": 16,
   "id": "97445142",
   "metadata": {},
   "outputs": [
    {
     "name": "stdout",
     "output_type": "stream",
     "text": [
      "=3\n"
     ]
    }
   ],
   "source": [
    "data['text'] = clean_text\n",
    "data['headlines'] = clean_headlines\n",
    "\n",
    "# 빈 값을 Null 값으로 변환\n",
    "data.replace('', np.nan, inplace=True)\n",
    "print('=3')"
   ]
  },
  {
   "cell_type": "code",
   "execution_count": 17,
   "id": "9b2e358b",
   "metadata": {},
   "outputs": [
    {
     "data": {
      "text/plain": [
       "text         0\n",
       "headlines    0\n",
       "dtype: int64"
      ]
     },
     "execution_count": 17,
     "metadata": {},
     "output_type": "execute_result"
    }
   ],
   "source": [
    "data.isnull().sum()"
   ]
  },
  {
   "cell_type": "code",
   "execution_count": 18,
   "id": "55920ebe",
   "metadata": {},
   "outputs": [
    {
     "name": "stdout",
     "output_type": "stream",
     "text": [
      "전체 샘플수 : 98360\n"
     ]
    }
   ],
   "source": [
    "data.dropna(axis=0, inplace=True)\n",
    "print('전체 샘플수 :', (len(data)))"
   ]
  },
  {
   "cell_type": "code",
   "execution_count": 19,
   "id": "6a21ee2b",
   "metadata": {},
   "outputs": [
    {
     "name": "stdout",
     "output_type": "stream",
     "text": [
      "텍스트의 최소 길이 : 1\n",
      "텍스트의 최대 길이 : 60\n",
      "텍스트의 평균 길이 : 35.09968483123221\n",
      "요약의 최소 길이 : 1\n",
      "요약의 최대 길이 : 16\n",
      "요약의 평균 길이 : 9.299532330215534\n"
     ]
    },
    {
     "data": {
      "image/png": "[encoded data removed]",
      "text/plain": [
       "<Figure size 432x288 with 2 Axes>"
      ]
     },
     "metadata": {
      "needs_background": "light"
     },
     "output_type": "display_data"
    },
    {
     "data": {
      "image/png": "[encoded data removed]",
      "text/plain": [
       "<Figure size 432x288 with 1 Axes>"
      ]
     },
     "metadata": {
      "needs_background": "light"
     },
     "output_type": "display_data"
    },
    {
     "data": {
      "image/png": "[encoded data removed]",
      "text/plain": [
       "<Figure size 432x288 with 1 Axes>"
      ]
     },
     "metadata": {
      "needs_background": "light"
     },
     "output_type": "display_data"
    }
   ],
   "source": [
    "# 길이 분포 출력\n",
    "import matplotlib.pyplot as plt\n",
    "\n",
    "text_len = [len(s.split()) for s in data['text']]\n",
    "headlines_len = [len(s.split()) for s in data['headlines']]\n",
    "\n",
    "print('텍스트의 최소 길이 : {}'.format(np.min(text_len)))\n",
    "print('텍스트의 최대 길이 : {}'.format(np.max(text_len)))\n",
    "print('텍스트의 평균 길이 : {}'.format(np.mean(text_len)))\n",
    "print('요약의 최소 길이 : {}'.format(np.min(headlines_len)))\n",
    "print('요약의 최대 길이 : {}'.format(np.max(headlines_len)))\n",
    "print('요약의 평균 길이 : {}'.format(np.mean(headlines_len)))\n",
    "\n",
    "plt.subplot(1,2,1)\n",
    "plt.boxplot(text_len)\n",
    "plt.title('Text')\n",
    "plt.subplot(1,2,2)\n",
    "plt.boxplot(headlines_len)\n",
    "plt.title('Summary')\n",
    "plt.tight_layout()\n",
    "plt.show()\n",
    "\n",
    "plt.title('Text')\n",
    "plt.hist(text_len, bins = 40)\n",
    "plt.xlabel('length of samples')\n",
    "plt.ylabel('number of samples')\n",
    "plt.show()\n",
    "\n",
    "plt.title('Summary')\n",
    "plt.hist(headlines_len, bins = 40)\n",
    "plt.xlabel('length of samples')\n",
    "plt.ylabel('number of samples')\n",
    "plt.show()"
   ]
  },
  {
   "cell_type": "code",
   "execution_count": 20,
   "id": "d264d42b",
   "metadata": {},
   "outputs": [
    {
     "name": "stdout",
     "output_type": "stream",
     "text": [
      "=3\n"
     ]
    }
   ],
   "source": [
    "text_max_len = 50\n",
    "headlines_max_len = 9\n",
    "print('=3')"
   ]
  },
  {
   "cell_type": "code",
   "execution_count": 21,
   "id": "38cfe6a2",
   "metadata": {},
   "outputs": [
    {
     "name": "stdout",
     "output_type": "stream",
     "text": [
      "=3\n"
     ]
    }
   ],
   "source": [
    "def below_threshold_len(max_len, nested_list):\n",
    "  cnt = 0\n",
    "  for s in nested_list:\n",
    "    if(len(s.split()) <= max_len):\n",
    "        cnt = cnt + 1\n",
    "  print('전체 샘플 중 길이가 %s 이하인 샘플의 비율: %s'%(max_len, (cnt / len(nested_list))))\n",
    "print('=3')"
   ]
  },
  {
   "cell_type": "code",
   "execution_count": 22,
   "id": "757f6dfe",
   "metadata": {},
   "outputs": [
    {
     "name": "stdout",
     "output_type": "stream",
     "text": [
      "전체 샘플 중 길이가 50 이하인 샘플의 비율: 0.9998576657177715\n",
      "전체 샘플 중 길이가 9 이하인 샘플의 비율: 0.5666022773485156\n"
     ]
    }
   ],
   "source": [
    "below_threshold_len(text_max_len, data['text'])\n",
    "below_threshold_len(headlines_max_len,  data['headlines'])"
   ]
  },
  {
   "cell_type": "code",
   "execution_count": 23,
   "id": "517a4211",
   "metadata": {},
   "outputs": [
    {
     "name": "stdout",
     "output_type": "stream",
     "text": [
      "전체 샘플수 : 55724\n"
     ]
    }
   ],
   "source": [
    "# Text와 Summary 길이 조건에 맞는 샘플만 남기기\n",
    "data = data[\n",
    "    data['text'].apply(lambda x: len(x.split()) <= text_max_len) & \n",
    "    data['headlines'].apply(lambda x: len(x.split()) <= headlines_max_len)\n",
    "]\n",
    "\n",
    "print('전체 샘플수 :', len(data))\n"
   ]
  },
  {
   "cell_type": "code",
   "execution_count": 24,
   "id": "82f2ce3c",
   "metadata": {},
   "outputs": [
    {
     "data": {
      "text/html": [
       "<div>\n",
       "<style scoped>\n",
       "    .dataframe tbody tr th:only-of-type {\n",
       "        vertical-align: middle;\n",
       "    }\n",
       "\n",
       "    .dataframe tbody tr th {\n",
       "        vertical-align: top;\n",
       "    }\n",
       "\n",
       "    .dataframe thead th {\n",
       "        text-align: right;\n",
       "    }\n",
       "</style>\n",
       "<table border=\"1\" class=\"dataframe\">\n",
       "  <thead>\n",
       "    <tr style=\"text-align: right;\">\n",
       "      <th></th>\n",
       "      <th>text</th>\n",
       "      <th>headlines</th>\n",
       "      <th>decoder_input</th>\n",
       "      <th>decoder_target</th>\n",
       "    </tr>\n",
       "  </thead>\n",
       "  <tbody>\n",
       "    <tr>\n",
       "      <th>3</th>\n",
       "      <td>aegon life iterm insurance plan customers enjo...</td>\n",
       "      <td>aegon life iterm insurance plan helps customer...</td>\n",
       "      <td>sostoken aegon life iterm insurance plan helps...</td>\n",
       "      <td>aegon life iterm insurance plan helps customer...</td>\n",
       "    </tr>\n",
       "    <tr>\n",
       "      <th>10</th>\n",
       "      <td>two minor cousins uttar pradesh gorakhpur alle...</td>\n",
       "      <td>up cousins fed human excreta for friendship wi...</td>\n",
       "      <td>sostoken up cousins fed human excreta for frie...</td>\n",
       "      <td>up cousins fed human excreta for friendship wi...</td>\n",
       "    </tr>\n",
       "    <tr>\n",
       "      <th>11</th>\n",
       "      <td>isha ghosh year old member bharat scouts guide...</td>\n",
       "      <td>yr old woman conducts physical training in kha...</td>\n",
       "      <td>sostoken yr old woman conducts physical traini...</td>\n",
       "      <td>yr old woman conducts physical training in kha...</td>\n",
       "    </tr>\n",
       "    <tr>\n",
       "      <th>18</th>\n",
       "      <td>days threatened step post congress mlas contin...</td>\n",
       "      <td>how long can tolerate congress leaders potshot...</td>\n",
       "      <td>sostoken how long can tolerate congress leader...</td>\n",
       "      <td>how long can tolerate congress leaders potshot...</td>\n",
       "    </tr>\n",
       "    <tr>\n",
       "      <th>19</th>\n",
       "      <td>union minister dharmendra pradhan wednesday cl...</td>\n",
       "      <td>odisha cm patnaik controls mining mafia union ...</td>\n",
       "      <td>sostoken odisha cm patnaik controls mining maf...</td>\n",
       "      <td>odisha cm patnaik controls mining mafia union ...</td>\n",
       "    </tr>\n",
       "  </tbody>\n",
       "</table>\n",
       "</div>"
      ],
      "text/plain": [
       "                                                 text  \\\n",
       "3   aegon life iterm insurance plan customers enjo...   \n",
       "10  two minor cousins uttar pradesh gorakhpur alle...   \n",
       "11  isha ghosh year old member bharat scouts guide...   \n",
       "18  days threatened step post congress mlas contin...   \n",
       "19  union minister dharmendra pradhan wednesday cl...   \n",
       "\n",
       "                                            headlines  \\\n",
       "3   aegon life iterm insurance plan helps customer...   \n",
       "10  up cousins fed human excreta for friendship wi...   \n",
       "11  yr old woman conducts physical training in kha...   \n",
       "18  how long can tolerate congress leaders potshot...   \n",
       "19  odisha cm patnaik controls mining mafia union ...   \n",
       "\n",
       "                                        decoder_input  \\\n",
       "3   sostoken aegon life iterm insurance plan helps...   \n",
       "10  sostoken up cousins fed human excreta for frie...   \n",
       "11  sostoken yr old woman conducts physical traini...   \n",
       "18  sostoken how long can tolerate congress leader...   \n",
       "19  sostoken odisha cm patnaik controls mining maf...   \n",
       "\n",
       "                                       decoder_target  \n",
       "3   aegon life iterm insurance plan helps customer...  \n",
       "10  up cousins fed human excreta for friendship wi...  \n",
       "11  yr old woman conducts physical training in kha...  \n",
       "18  how long can tolerate congress leaders potshot...  \n",
       "19  odisha cm patnaik controls mining mafia union ...  "
      ]
     },
     "execution_count": 24,
     "metadata": {},
     "output_type": "execute_result"
    }
   ],
   "source": [
    "# 요약 데이터에는 시작 토큰과 종료 토큰을 추가한다.\n",
    "data['decoder_input'] = data['headlines'].apply(lambda x : 'sostoken '+ x)\n",
    "data['decoder_target'] = data['headlines'].apply(lambda x : x + ' eostoken')\n",
    "data.head()"
   ]
  },
  {
   "cell_type": "code",
   "execution_count": 25,
   "id": "c7b37c1a",
   "metadata": {},
   "outputs": [
    {
     "name": "stdout",
     "output_type": "stream",
     "text": [
      "=3\n"
     ]
    }
   ],
   "source": [
    "encoder_input = np.array(data['text']) # 인코더의 입력\n",
    "decoder_input = np.array(data['decoder_input']) # 디코더의 입력\n",
    "decoder_target = np.array(data['decoder_target']) # 디코더의 레이블\n",
    "print('=3')"
   ]
  },
  {
   "cell_type": "code",
   "execution_count": 26,
   "id": "3ea5301f",
   "metadata": {},
   "outputs": [
    {
     "name": "stdout",
     "output_type": "stream",
     "text": [
      "[38211 40258 48217 ... 36660 39649     5]\n"
     ]
    }
   ],
   "source": [
    "indices = np.arange(encoder_input.shape[0])\n",
    "np.random.shuffle(indices)\n",
    "print(indices)"
   ]
  },
  {
   "cell_type": "code",
   "execution_count": 27,
   "id": "0a4baa45",
   "metadata": {},
   "outputs": [
    {
     "name": "stdout",
     "output_type": "stream",
     "text": [
      "=3\n"
     ]
    }
   ],
   "source": [
    "encoder_input = encoder_input[indices]\n",
    "decoder_input = decoder_input[indices]\n",
    "decoder_target = decoder_target[indices]\n",
    "print('=3')"
   ]
  },
  {
   "cell_type": "code",
   "execution_count": 28,
   "id": "2f4f3be5",
   "metadata": {},
   "outputs": [
    {
     "name": "stdout",
     "output_type": "stream",
     "text": [
      "테스트 데이터의 수 : 11144\n"
     ]
    }
   ],
   "source": [
    "n_of_val = int(len(encoder_input)*0.2)\n",
    "print('테스트 데이터의 수 :', n_of_val)"
   ]
  },
  {
   "cell_type": "code",
   "execution_count": 29,
   "id": "2c8c407b",
   "metadata": {},
   "outputs": [
    {
     "name": "stdout",
     "output_type": "stream",
     "text": [
      "훈련 데이터의 개수 : 44580\n",
      "훈련 레이블의 개수 : 44580\n",
      "테스트 데이터의 개수 : 11144\n",
      "테스트 레이블의 개수 : 11144\n"
     ]
    }
   ],
   "source": [
    "encoder_input_train = encoder_input[:-n_of_val]\n",
    "decoder_input_train = decoder_input[:-n_of_val]\n",
    "decoder_target_train = decoder_target[:-n_of_val]\n",
    "\n",
    "encoder_input_test = encoder_input[-n_of_val:]\n",
    "decoder_input_test = decoder_input[-n_of_val:]\n",
    "decoder_target_test = decoder_target[-n_of_val:]\n",
    "\n",
    "print('훈련 데이터의 개수 :', len(encoder_input_train))\n",
    "print('훈련 레이블의 개수 :', len(decoder_input_train))\n",
    "print('테스트 데이터의 개수 :', len(encoder_input_test))\n",
    "print('테스트 레이블의 개수 :', len(decoder_input_test))"
   ]
  },
  {
   "cell_type": "code",
   "execution_count": 30,
   "id": "435505d3",
   "metadata": {},
   "outputs": [
    {
     "name": "stdout",
     "output_type": "stream",
     "text": [
      "=3\n"
     ]
    }
   ],
   "source": [
    "src_tokenizer = Tokenizer() # 토크나이저 정의\n",
    "src_tokenizer.fit_on_texts(encoder_input_train) # 입력된 데이터로부터 단어 집합 생성\n",
    "print('=3')"
   ]
  },
  {
   "cell_type": "code",
   "execution_count": 31,
   "id": "b711150d",
   "metadata": {},
   "outputs": [
    {
     "name": "stdout",
     "output_type": "stream",
     "text": [
      "단어 집합(vocabulary)의 크기 : 56745\n",
      "등장 빈도가 6번 이하인 희귀 단어의 수: 39487\n",
      "단어 집합에서 희귀 단어를 제외시킬 경우의 단어 집합의 크기 17258\n",
      "단어 집합에서 희귀 단어의 비율: 69.58674773107762\n",
      "전체 등장 빈도에서 희귀 단어 등장 빈도 비율: 5.121213879577443\n"
     ]
    }
   ],
   "source": [
    "threshold = 7\n",
    "total_cnt = len(src_tokenizer.word_index) # 단어의 수\n",
    "rare_cnt = 0 # 등장 빈도수가 threshold보다 작은 단어의 개수를 카운트\n",
    "total_freq = 0 # 훈련 데이터의 전체 단어 빈도수 총 합\n",
    "rare_freq = 0 # 등장 빈도수가 threshold보다 작은 단어의 등장 빈도수의 총 합\n",
    "\n",
    "# 단어와 빈도수의 쌍(pair)을 key와 value로 받는다.\n",
    "for key, value in src_tokenizer.word_counts.items():\n",
    "    total_freq = total_freq + value\n",
    "\n",
    "    # 단어의 등장 빈도수가 threshold보다 작으면\n",
    "    if(value < threshold):\n",
    "        rare_cnt = rare_cnt + 1\n",
    "        rare_freq = rare_freq + value\n",
    "\n",
    "print('단어 집합(vocabulary)의 크기 :', total_cnt)\n",
    "print('등장 빈도가 %s번 이하인 희귀 단어의 수: %s'%(threshold - 1, rare_cnt))\n",
    "print('단어 집합에서 희귀 단어를 제외시킬 경우의 단어 집합의 크기 %s'%(total_cnt - rare_cnt))\n",
    "print(\"단어 집합에서 희귀 단어의 비율:\", (rare_cnt / total_cnt)*100)\n",
    "print(\"전체 등장 빈도에서 희귀 단어 등장 빈도 비율:\", (rare_freq / total_freq)*100)"
   ]
  },
  {
   "cell_type": "code",
   "execution_count": 32,
   "id": "dca78956",
   "metadata": {},
   "outputs": [
    {
     "name": "stdout",
     "output_type": "stream",
     "text": [
      "=3\n"
     ]
    }
   ],
   "source": [
    "src_vocab = 8000\n",
    "src_tokenizer = Tokenizer(num_words=src_vocab) # 단어 집합의 크기를 8,000으로 제한\n",
    "src_tokenizer.fit_on_texts(encoder_input_train) # 단어 집합 재생성\n",
    "print('=3')"
   ]
  },
  {
   "cell_type": "code",
   "execution_count": 33,
   "id": "8f312ba4",
   "metadata": {},
   "outputs": [
    {
     "name": "stdout",
     "output_type": "stream",
     "text": [
      "[[369, 216, 62, 3501, 6622, 1004, 2813, 4159, 32, 295, 47, 770, 20, 693, 1191, 2248, 517, 257, 4159, 1526, 88, 4, 517, 4159, 4213, 2509, 82, 510, 117, 250, 1883, 4159, 2529, 1192, 510, 3549], [5507, 4500, 2212, 2792, 71, 2212, 29, 510, 291, 575, 30, 171, 187, 2670, 1144, 184, 576, 16, 3446, 1892, 880, 362, 86, 880, 4797, 77, 9, 624, 93, 1892, 87, 335, 333, 28, 3], [68, 5919, 1703, 1257, 1209, 3768, 5333, 548, 7386, 1243, 251, 3768, 3616, 105, 4319, 4113, 326, 226, 189, 1340, 7568, 7072, 2944, 1, 904, 29, 2510, 317, 830]]\n"
     ]
    }
   ],
   "source": [
    "# 텍스트 시퀀스를 정수 시퀀스로 변환\n",
    "encoder_input_train = src_tokenizer.texts_to_sequences(encoder_input_train) \n",
    "encoder_input_test = src_tokenizer.texts_to_sequences(encoder_input_test)\n",
    "\n",
    "# 잘 진행되었는지 샘플 출력\n",
    "print(encoder_input_train[:3])"
   ]
  },
  {
   "cell_type": "code",
   "execution_count": 34,
   "id": "1e423f4d",
   "metadata": {},
   "outputs": [
    {
     "name": "stdout",
     "output_type": "stream",
     "text": [
      "=3\n"
     ]
    }
   ],
   "source": [
    "tar_tokenizer = Tokenizer()\n",
    "tar_tokenizer.fit_on_texts(decoder_input_train)\n",
    "print('=3')"
   ]
  },
  {
   "cell_type": "code",
   "execution_count": 35,
   "id": "d944fed1",
   "metadata": {},
   "outputs": [
    {
     "name": "stdout",
     "output_type": "stream",
     "text": [
      "단어 집합(vocabulary)의 크기 : 25136\n",
      "등장 빈도가 5번 이하인 희귀 단어의 수: 17440\n",
      "단어 집합에서 희귀 단어를 제외시킬 경우의 단어 집합의 크기 7696\n",
      "단어 집합에서 희귀 단어의 비율: 69.38255887969447\n",
      "전체 등장 빈도에서 희귀 단어 등장 빈도 비율: 7.979497792162478\n"
     ]
    }
   ],
   "source": [
    "threshold = 6\n",
    "total_cnt = len(tar_tokenizer.word_index) # 단어의 수\n",
    "rare_cnt = 0 # 등장 빈도수가 threshold보다 작은 단어의 개수를 카운트\n",
    "total_freq = 0 # 훈련 데이터의 전체 단어 빈도수 총 합\n",
    "rare_freq = 0 # 등장 빈도수가 threshold보다 작은 단어의 등장 빈도수의 총 합\n",
    "\n",
    "# 단어와 빈도수의 쌍(pair)을 key와 value로 받는다.\n",
    "for key, value in tar_tokenizer.word_counts.items():\n",
    "    total_freq = total_freq + value\n",
    "\n",
    "    # 단어의 등장 빈도수가 threshold보다 작으면\n",
    "    if(value < threshold):\n",
    "        rare_cnt = rare_cnt + 1\n",
    "        rare_freq = rare_freq + value\n",
    "\n",
    "print('단어 집합(vocabulary)의 크기 :', total_cnt)\n",
    "print('등장 빈도가 %s번 이하인 희귀 단어의 수: %s'%(threshold - 1, rare_cnt))\n",
    "print('단어 집합에서 희귀 단어를 제외시킬 경우의 단어 집합의 크기 %s'%(total_cnt - rare_cnt))\n",
    "print(\"단어 집합에서 희귀 단어의 비율:\", (rare_cnt / total_cnt)*100)\n",
    "print(\"전체 등장 빈도에서 희귀 단어 등장 빈도 비율:\", (rare_freq / total_freq)*100)"
   ]
  },
  {
   "cell_type": "code",
   "execution_count": 36,
   "id": "e20ecda9",
   "metadata": {},
   "outputs": [
    {
     "name": "stdout",
     "output_type": "stream",
     "text": [
      "input\n",
      "input  [[1, 47, 368, 370, 5], [1, 953, 4, 1624, 3, 176], [1, 214, 52, 1069, 1140, 1163, 58, 356], [1, 547, 818, 425, 10, 1194, 116, 6, 239], [1, 156, 720, 205, 16, 1055]]\n",
      "target\n",
      "decoder  [[47, 368, 370, 5, 2], [953, 4, 1624, 3, 176, 2], [214, 52, 1069, 1140, 1163, 58, 356, 2], [547, 818, 425, 10, 1194, 116, 6, 239, 2], [156, 720, 205, 16, 1055, 2]]\n"
     ]
    }
   ],
   "source": [
    "tar_vocab = 2000\n",
    "tar_tokenizer = Tokenizer(num_words=tar_vocab) \n",
    "tar_tokenizer.fit_on_texts(decoder_input_train)\n",
    "tar_tokenizer.fit_on_texts(decoder_target_train)\n",
    "\n",
    "# 텍스트 시퀀스를 정수 시퀀스로 변환\n",
    "decoder_input_train = tar_tokenizer.texts_to_sequences(decoder_input_train) \n",
    "decoder_target_train = tar_tokenizer.texts_to_sequences(decoder_target_train)\n",
    "decoder_input_test = tar_tokenizer.texts_to_sequences(decoder_input_test)\n",
    "decoder_target_test = tar_tokenizer.texts_to_sequences(decoder_target_test)\n",
    "\n",
    "# 잘 변환되었는지 확인\n",
    "print('input')\n",
    "print('input ',decoder_input_train[:5])\n",
    "print('target')\n",
    "print('decoder ',decoder_target_train[:5])"
   ]
  },
  {
   "cell_type": "code",
   "execution_count": 37,
   "id": "34b9599f",
   "metadata": {},
   "outputs": [
    {
     "name": "stdout",
     "output_type": "stream",
     "text": [
      "삭제할 훈련 데이터의 개수 : 9\n",
      "삭제할 테스트 데이터의 개수 : 5\n",
      "훈련 데이터의 개수 : 44571\n",
      "훈련 레이블의 개수 : 44571\n",
      "테스트 데이터의 개수 : 11139\n",
      "테스트 레이블의 개수 : 11139\n"
     ]
    }
   ],
   "source": [
    "drop_train = [index for index, sentence in enumerate(decoder_input_train) if len(sentence) == 1]\n",
    "drop_test = [index for index, sentence in enumerate(decoder_input_test) if len(sentence) == 1]\n",
    "\n",
    "print('삭제할 훈련 데이터의 개수 :', len(drop_train))\n",
    "print('삭제할 테스트 데이터의 개수 :', len(drop_test))\n",
    "\n",
    "encoder_input_train = [sentence for index, sentence in enumerate(encoder_input_train) if index not in drop_train]\n",
    "decoder_input_train = [sentence for index, sentence in enumerate(decoder_input_train) if index not in drop_train]\n",
    "decoder_target_train = [sentence for index, sentence in enumerate(decoder_target_train) if index not in drop_train]\n",
    "\n",
    "encoder_input_test = [sentence for index, sentence in enumerate(encoder_input_test) if index not in drop_test]\n",
    "decoder_input_test = [sentence for index, sentence in enumerate(decoder_input_test) if index not in drop_test]\n",
    "decoder_target_test = [sentence for index, sentence in enumerate(decoder_target_test) if index not in drop_test]\n",
    "\n",
    "print('훈련 데이터의 개수 :', len(encoder_input_train))\n",
    "print('훈련 레이블의 개수 :', len(decoder_input_train))\n",
    "print('테스트 데이터의 개수 :', len(encoder_input_test))\n",
    "print('테스트 레이블의 개수 :', len(decoder_input_test))"
   ]
  },
  {
   "cell_type": "code",
   "execution_count": 38,
   "id": "c78f28d4",
   "metadata": {},
   "outputs": [
    {
     "name": "stdout",
     "output_type": "stream",
     "text": [
      "=3\n"
     ]
    }
   ],
   "source": [
    "encoder_input_train = pad_sequences(encoder_input_train, maxlen=text_max_len, padding='post')\n",
    "encoder_input_test = pad_sequences(encoder_input_test, maxlen=text_max_len, padding='post')\n",
    "decoder_input_train = pad_sequences(decoder_input_train, maxlen=headlines_max_len, padding='post')\n",
    "decoder_target_train = pad_sequences(decoder_target_train, maxlen=headlines_max_len, padding='post')\n",
    "decoder_input_test = pad_sequences(decoder_input_test, maxlen=headlines_max_len, padding='post')\n",
    "decoder_target_test = pad_sequences(decoder_target_test, maxlen=headlines_max_len, padding='post')\n",
    "print('=3')"
   ]
  },
  {
   "cell_type": "code",
   "execution_count": 64,
   "id": "3ff81686",
   "metadata": {},
   "outputs": [],
   "source": [
    "from tensorflow.keras.layers import Input, LSTM, Embedding, Dense, Concatenate, TimeDistributed\n",
    "from tensorflow.keras.models import Model\n",
    "from tensorflow.keras.callbacks import EarlyStopping, ModelCheckpoint\n",
    "\n",
    "\n",
    "# 인코더 설계 시작\n",
    "embedding_dim = 128\n",
    "hidden_size = 256\n",
    "\n",
    "# 인코더\n",
    "encoder_inputs = Input(shape=(text_max_len,))\n",
    "\n",
    "# 인코더의 임베딩 층\n",
    "enc_emb = Embedding(src_vocab, embedding_dim)(encoder_inputs)\n",
    "\n",
    "# 인코더의 LSTM 1\n",
    "# encoder_lstm1 = LSTM(hidden_size, return_sequences=True, return_state=True ,dropout = 0.4, recurrent_dropout = 0.4)\n",
    "encoder_lstm1 = LSTM(hidden_size, return_sequences=True, return_state=True ,dropout = 0.4)\n",
    "encoder_output1, state_h1, state_c1 = encoder_lstm1(enc_emb)\n",
    "\n",
    "# 인코더의 LSTM 2\n",
    "encoder_lstm2 = LSTM(hidden_size, return_sequences=True, return_state=True, dropout=0.4)\n",
    "encoder_output2, state_h2, state_c2 = encoder_lstm2(encoder_output1)\n",
    "\n",
    "# 인코더의 LSTM 3\n",
    "encoder_lstm3 = LSTM(hidden_size, return_sequences=True, return_state=True, dropout=0.4)\n",
    "encoder_outputs, state_h3, state_c3 = encoder_lstm3(encoder_output2)"
   ]
  },
  {
   "cell_type": "code",
   "execution_count": 65,
   "id": "a90f0090",
   "metadata": {},
   "outputs": [],
   "source": [
    "# 디코더 설계\n",
    "decoder_inputs = Input(shape=(None,))\n",
    "\n",
    "# 디코더의 임베딩 층\n",
    "dec_emb_layer = Embedding(tar_vocab, embedding_dim)\n",
    "dec_emb = dec_emb_layer(decoder_inputs)\n",
    "\n",
    "# 디코더의 LSTM\n",
    "# decoder_lstm = LSTM(hidden_size, return_sequences=True, return_state=True, dropout=0.4, recurrent_dropout=0.2)\n",
    "decoder_lstm = LSTM(hidden_size, return_sequences=True, return_state=True, dropout=0.4)\n",
    "decoder_outputs, _, _ = decoder_lstm(dec_emb, initial_state=[state_h3, state_c3])"
   ]
  },
  {
   "cell_type": "code",
   "execution_count": 66,
   "id": "5c7066d1",
   "metadata": {},
   "outputs": [
    {
     "name": "stdout",
     "output_type": "stream",
     "text": [
      "Model: \"model_6\"\n",
      "__________________________________________________________________________________________________\n",
      "Layer (type)                    Output Shape         Param #     Connected to                     \n",
      "==================================================================================================\n",
      "input_11 (InputLayer)           [(None, 50)]         0                                            \n",
      "__________________________________________________________________________________________________\n",
      "embedding_4 (Embedding)         (None, 50, 128)      1024000     input_11[0][0]                   \n",
      "__________________________________________________________________________________________________\n",
      "lstm_10 (LSTM)                  [(None, 50, 256), (N 394240      embedding_4[0][0]                \n",
      "__________________________________________________________________________________________________\n",
      "input_12 (InputLayer)           [(None, None)]       0                                            \n",
      "__________________________________________________________________________________________________\n",
      "lstm_11 (LSTM)                  [(None, 50, 256), (N 525312      lstm_10[0][0]                    \n",
      "__________________________________________________________________________________________________\n",
      "embedding_5 (Embedding)         (None, None, 128)    256000      input_12[0][0]                   \n",
      "__________________________________________________________________________________________________\n",
      "lstm_12 (LSTM)                  [(None, 50, 256), (N 525312      lstm_11[0][0]                    \n",
      "__________________________________________________________________________________________________\n",
      "lstm_13 (LSTM)                  [(None, None, 256),  394240      embedding_5[0][0]                \n",
      "                                                                 lstm_12[0][1]                    \n",
      "                                                                 lstm_12[0][2]                    \n",
      "__________________________________________________________________________________________________\n",
      "dense_2 (Dense)                 (None, None, 2000)   514000      lstm_13[0][0]                    \n",
      "==================================================================================================\n",
      "Total params: 3,633,104\n",
      "Trainable params: 3,633,104\n",
      "Non-trainable params: 0\n",
      "__________________________________________________________________________________________________\n"
     ]
    }
   ],
   "source": [
    "# 디코더의 출력층\n",
    "decoder_softmax_layer = Dense(tar_vocab, activation='softmax')\n",
    "decoder_softmax_outputs = decoder_softmax_layer(decoder_outputs) \n",
    "\n",
    "# 모델 정의\n",
    "model = Model([encoder_inputs, decoder_inputs], decoder_softmax_outputs)\n",
    "model.summary()"
   ]
  },
  {
   "cell_type": "code",
   "execution_count": 67,
   "id": "67de08e5",
   "metadata": {},
   "outputs": [
    {
     "name": "stdout",
     "output_type": "stream",
     "text": [
      "Model: \"model_7\"\n",
      "__________________________________________________________________________________________________\n",
      "Layer (type)                    Output Shape         Param #     Connected to                     \n",
      "==================================================================================================\n",
      "input_11 (InputLayer)           [(None, 50)]         0                                            \n",
      "__________________________________________________________________________________________________\n",
      "embedding_4 (Embedding)         (None, 50, 128)      1024000     input_11[0][0]                   \n",
      "__________________________________________________________________________________________________\n",
      "lstm_10 (LSTM)                  [(None, 50, 256), (N 394240      embedding_4[0][0]                \n",
      "__________________________________________________________________________________________________\n",
      "input_12 (InputLayer)           [(None, None)]       0                                            \n",
      "__________________________________________________________________________________________________\n",
      "lstm_11 (LSTM)                  [(None, 50, 256), (N 525312      lstm_10[0][0]                    \n",
      "__________________________________________________________________________________________________\n",
      "embedding_5 (Embedding)         (None, None, 128)    256000      input_12[0][0]                   \n",
      "__________________________________________________________________________________________________\n",
      "lstm_12 (LSTM)                  [(None, 50, 256), (N 525312      lstm_11[0][0]                    \n",
      "__________________________________________________________________________________________________\n",
      "lstm_13 (LSTM)                  [(None, None, 256),  394240      embedding_5[0][0]                \n",
      "                                                                 lstm_12[0][1]                    \n",
      "                                                                 lstm_12[0][2]                    \n",
      "__________________________________________________________________________________________________\n",
      "attention_layer (AdditiveAttent (None, None, 256)    256         lstm_13[0][0]                    \n",
      "                                                                 lstm_12[0][0]                    \n",
      "__________________________________________________________________________________________________\n",
      "concat_layer (Concatenate)      (None, None, 512)    0           lstm_13[0][0]                    \n",
      "                                                                 attention_layer[0][0]            \n",
      "__________________________________________________________________________________________________\n",
      "dense_3 (Dense)                 (None, None, 2000)   1026000     concat_layer[0][0]               \n",
      "==================================================================================================\n",
      "Total params: 4,145,360\n",
      "Trainable params: 4,145,360\n",
      "Non-trainable params: 0\n",
      "__________________________________________________________________________________________________\n"
     ]
    }
   ],
   "source": [
    "from tensorflow.keras.layers import AdditiveAttention\n",
    "\n",
    "# 어텐션 층(어텐션 함수)\n",
    "attn_layer = AdditiveAttention(name='attention_layer')\n",
    "\n",
    "# 인코더와 디코더의 모든 time step의 hidden state를 어텐션 층에 전달하고 결과를 리턴\n",
    "attn_out = attn_layer([decoder_outputs, encoder_outputs])\n",
    "\n",
    "\n",
    "# 어텐션의 결과와 디코더의 hidden state들을 연결\n",
    "decoder_concat_input = Concatenate(axis=-1, name='concat_layer')([decoder_outputs, attn_out])\n",
    "\n",
    "# 디코더의 출력층\n",
    "decoder_softmax_layer = Dense(tar_vocab, activation='softmax')\n",
    "decoder_softmax_outputs = decoder_softmax_layer(decoder_concat_input)\n",
    "\n",
    "# 모델 정의\n",
    "model = Model([encoder_inputs, decoder_inputs], decoder_softmax_outputs)\n",
    "model.summary()"
   ]
  },
  {
   "cell_type": "code",
   "execution_count": 68,
   "id": "5a3eb2e9",
   "metadata": {},
   "outputs": [
    {
     "name": "stdout",
     "output_type": "stream",
     "text": [
      "Epoch 1/50\n",
      "175/175 [==============================] - 19s 76ms/step - loss: 4.6386 - val_loss: 4.3371\n",
      "Epoch 2/50\n",
      "175/175 [==============================] - 12s 70ms/step - loss: 4.2289 - val_loss: 4.0896\n",
      "Epoch 3/50\n",
      "175/175 [==============================] - 13s 72ms/step - loss: 3.9957 - val_loss: 3.9260\n",
      "Epoch 4/50\n",
      "175/175 [==============================] - 13s 73ms/step - loss: 3.7744 - val_loss: 3.7252\n",
      "Epoch 5/50\n",
      "175/175 [==============================] - 13s 73ms/step - loss: 3.5839 - val_loss: 3.5840\n",
      "Epoch 6/50\n",
      "175/175 [==============================] - 13s 72ms/step - loss: 3.4294 - val_loss: 3.4965\n",
      "Epoch 7/50\n",
      "175/175 [==============================] - 12s 71ms/step - loss: 3.2983 - val_loss: 3.3737\n",
      "Epoch 8/50\n",
      "175/175 [==============================] - 12s 71ms/step - loss: 3.1883 - val_loss: 3.3323\n",
      "Epoch 9/50\n",
      "175/175 [==============================] - 12s 71ms/step - loss: 3.0919 - val_loss: 3.2602\n",
      "Epoch 10/50\n",
      "175/175 [==============================] - 13s 72ms/step - loss: 3.0061 - val_loss: 3.2134\n",
      "Epoch 11/50\n",
      "175/175 [==============================] - 13s 72ms/step - loss: 2.9283 - val_loss: 3.1860\n",
      "Epoch 12/50\n",
      "175/175 [==============================] - 13s 72ms/step - loss: 2.8548 - val_loss: 3.1540\n",
      "Epoch 13/50\n",
      "175/175 [==============================] - 13s 72ms/step - loss: 2.7860 - val_loss: 3.1240\n",
      "Epoch 14/50\n",
      "175/175 [==============================] - 13s 72ms/step - loss: 2.7226 - val_loss: 3.1019\n",
      "Epoch 15/50\n",
      "175/175 [==============================] - 13s 72ms/step - loss: 2.6637 - val_loss: 3.0740\n",
      "Epoch 16/50\n",
      "175/175 [==============================] - 12s 71ms/step - loss: 2.6087 - val_loss: 3.0764\n",
      "Epoch 17/50\n",
      "175/175 [==============================] - 12s 71ms/step - loss: 2.5541 - val_loss: 3.0480\n",
      "Epoch 18/50\n",
      "175/175 [==============================] - 13s 72ms/step - loss: 2.5027 - val_loss: 3.0445\n",
      "Epoch 19/50\n",
      "175/175 [==============================] - 12s 71ms/step - loss: 2.4539 - val_loss: 3.0369\n",
      "Epoch 20/50\n",
      "175/175 [==============================] - 13s 72ms/step - loss: 2.4075 - val_loss: 3.0239\n",
      "Epoch 21/50\n",
      "175/175 [==============================] - 13s 72ms/step - loss: 2.3632 - val_loss: 3.0341\n",
      "Epoch 22/50\n",
      "175/175 [==============================] - 13s 72ms/step - loss: 2.3205 - val_loss: 3.0241\n",
      "Epoch 00022: early stopping\n"
     ]
    }
   ],
   "source": [
    "model.compile(optimizer='rmsprop', loss='sparse_categorical_crossentropy')\n",
    "es = EarlyStopping(monitor='val_loss', patience=2, verbose=1)\n",
    "history = model.fit(x=[encoder_input_train, decoder_input_train], y=decoder_target_train, \\\n",
    "          validation_data=([encoder_input_test, decoder_input_test], decoder_target_test), \\\n",
    "          batch_size=256, callbacks=[es], epochs=50)"
   ]
  },
  {
   "cell_type": "code",
   "execution_count": 69,
   "id": "aa0c058c",
   "metadata": {},
   "outputs": [
    {
     "data": {
      "image/png": "[encoded data removed]",
      "text/plain": [
       "<Figure size 432x288 with 1 Axes>"
      ]
     },
     "metadata": {
      "needs_background": "light"
     },
     "output_type": "display_data"
    }
   ],
   "source": [
    "plt.plot(history.history['loss'], label='train')\n",
    "plt.plot(history.history['val_loss'], label='test')\n",
    "plt.legend()\n",
    "plt.show()"
   ]
  },
  {
   "cell_type": "code",
   "execution_count": 78,
   "id": "a2e7709a",
   "metadata": {},
   "outputs": [
    {
     "name": "stderr",
     "output_type": "stream",
     "text": [
      "WARNING:absl:Found untraced functions such as lstm_cell_10_layer_call_fn, lstm_cell_10_layer_call_and_return_conditional_losses, lstm_cell_11_layer_call_fn, lstm_cell_11_layer_call_and_return_conditional_losses, lstm_cell_12_layer_call_fn while saving (showing 5 of 20). These functions will not be directly callable after loading.\n"
     ]
    },
    {
     "name": "stdout",
     "output_type": "stream",
     "text": [
      "INFO:tensorflow:Assets written to: saved_model/summary/assets\n"
     ]
    },
    {
     "name": "stderr",
     "output_type": "stream",
     "text": [
      "INFO:tensorflow:Assets written to: saved_model/summary/assets\n"
     ]
    }
   ],
   "source": [
    "model.save('saved_model/summary')\n"
   ]
  },
  {
   "cell_type": "code",
   "execution_count": 70,
   "id": "3cf38c28",
   "metadata": {},
   "outputs": [
    {
     "name": "stdout",
     "output_type": "stream",
     "text": [
      "=3\n"
     ]
    }
   ],
   "source": [
    "src_index_to_word = src_tokenizer.index_word # 원문 단어 집합에서 정수 -> 단어를 얻음\n",
    "tar_word_to_index = tar_tokenizer.word_index # 요약 단어 집합에서 단어 -> 정수를 얻음\n",
    "tar_index_to_word = tar_tokenizer.index_word # 요약 단어 집합에서 정수 -> 단어를 얻음\n",
    "\n",
    "print('=3')"
   ]
  },
  {
   "cell_type": "code",
   "execution_count": 71,
   "id": "80ee9d04",
   "metadata": {},
   "outputs": [
    {
     "name": "stdout",
     "output_type": "stream",
     "text": [
      "=3\n"
     ]
    }
   ],
   "source": [
    "# 인코더 설계\n",
    "encoder_model = Model(inputs=encoder_inputs, outputs=[encoder_outputs, state_h3, state_c3])\n",
    "\n",
    "# 이전 시점의 상태들을 저장하는 텐서\n",
    "decoder_state_input_h = Input(shape=(hidden_size,))\n",
    "decoder_state_input_c = Input(shape=(hidden_size,))\n",
    "\n",
    "dec_emb2 = dec_emb_layer(decoder_inputs)\n",
    "\n",
    "# 문장의 다음 단어를 예측하기 위해서 초기 상태(initial_state)를 이전 시점의 상태로 사용. 이는 뒤의 함수 decode_sequence()에 구현\n",
    "# 훈련 과정에서와 달리 LSTM의 리턴하는 은닉 상태와 셀 상태인 state_h와 state_c를 버리지 않음.\n",
    "decoder_outputs2, state_h2, state_c2 = decoder_lstm(dec_emb2, initial_state=[decoder_state_input_h, decoder_state_input_c])\n",
    "\n",
    "print('=3')"
   ]
  },
  {
   "cell_type": "code",
   "execution_count": 72,
   "id": "40e8dbbd",
   "metadata": {},
   "outputs": [
    {
     "name": "stdout",
     "output_type": "stream",
     "text": [
      "=3\n"
     ]
    }
   ],
   "source": [
    "decoder_hidden_state_input = Input(shape=(text_max_len, hidden_size))\n",
    "attn_out_inf = attn_layer([decoder_outputs2, decoder_hidden_state_input])\n",
    "decoder_inf_concat = Concatenate(axis=-1, name='concat')([decoder_outputs2, attn_out_inf])\n",
    "\n",
    "# 디코더의 출력층\n",
    "decoder_outputs2 = decoder_softmax_layer(decoder_inf_concat) \n",
    "\n",
    "# 최종 디코더 모델\n",
    "decoder_model = Model(\n",
    "    [decoder_inputs] + [decoder_hidden_state_input,decoder_state_input_h, decoder_state_input_c],\n",
    "    [decoder_outputs2] + [state_h2, state_c2])\n",
    "\n",
    "print('=3')"
   ]
  },
  {
   "cell_type": "code",
   "execution_count": 76,
   "id": "335e66bf",
   "metadata": {},
   "outputs": [
    {
     "name": "stdout",
     "output_type": "stream",
     "text": [
      "=3\n"
     ]
    }
   ],
   "source": [
    "def decode_sequence(input_seq):\n",
    "    # 입력으로부터 인코더의 상태를 얻음\n",
    "    e_out, e_h, e_c = encoder_model.predict(input_seq)\n",
    "\n",
    "     # <SOS>에 해당하는 토큰 생성\n",
    "    target_seq = np.zeros((1,1))\n",
    "    target_seq[0, 0] = tar_word_to_index['sostoken']\n",
    "\n",
    "    stop_condition = False\n",
    "    decoded_sentence = ''\n",
    "    while not stop_condition: # stop_condition이 True가 될 때까지 루프 반복\n",
    "\n",
    "        output_tokens, h, c = decoder_model.predict([target_seq] + [e_out, e_h, e_c])\n",
    "        sampled_token_index = np.argmax(output_tokens[0, -1, :])\n",
    "        sampled_token = tar_index_to_word[sampled_token_index]\n",
    "\n",
    "        if (sampled_token!='eostoken'):\n",
    "            decoded_sentence += ' '+sampled_token\n",
    "\n",
    "        #  <eos>에 도달하거나 최대 길이를 넘으면 중단.\n",
    "        if (sampled_token == 'eostoken'  or len(decoded_sentence.split()) >= (headlines_max_len-1)):\n",
    "            stop_condition = True\n",
    "\n",
    "        # 길이가 1인 타겟 시퀀스를 업데이트\n",
    "        target_seq = np.zeros((1,1))\n",
    "        target_seq[0, 0] = sampled_token_index\n",
    "\n",
    "        # 상태를 업데이트 합니다.\n",
    "        e_h, e_c = h, c\n",
    "\n",
    "    return decoded_sentence\n",
    "print('=3')"
   ]
  },
  {
   "cell_type": "code",
   "execution_count": 74,
   "id": "7985704e",
   "metadata": {},
   "outputs": [],
   "source": [
    "# 원문의 정수 시퀀스를 텍스트 시퀀스로 변환\n",
    "def seq2text(input_seq):\n",
    "    temp = ''\n",
    "    for i in input_seq:\n",
    "        if i != 0:\n",
    "            temp = temp + src_index_to_word[i] + ' '\n",
    "    return temp.strip()\n",
    "\n",
    "\n",
    "# 요약문의 정수 시퀀스를 텍스트 시퀀스로 변환\n",
    "def seq2summary(input_seq):\n",
    "    temp = ''\n",
    "    for i in input_seq:\n",
    "        if i != 0 and i != tar_word_to_index['sostoken'] and i != tar_word_to_index['eostoken']:\n",
    "            temp = temp + tar_index_to_word[i] + ' '\n",
    "    return temp.strip()"
   ]
  },
  {
   "cell_type": "code",
   "execution_count": 77,
   "id": "cc5220d3",
   "metadata": {},
   "outputs": [
    {
     "name": "stdout",
     "output_type": "stream",
     "text": [
      "원문 : technology major google shut google talk messaging service years debut users automatically google messaging platform introduced additional features like group video calling company also operating several messaging platforms like duo android messages voice\n",
      "실제 요약 : google shuts down google service\n",
      "예측 요약 :  google to let users\n",
      "\n",
      "\n",
      "원문 : day old baby found lying terrace neighbour house area agra monkey snatched mother monday baby rushed hospital doctors declared brought dead infant mother feeding monkey snatched ran away\n",
      "실제 요약 : day old baby by in dies\n",
      "예측 요약 :  baby pregnant woman in mumbai\n",
      "\n",
      "\n",
      "원문 : panchkula sessions court haryana thursday rejected bail plea dera sacha sauda chief gurmeet ram rahim adopted daughter honeypreet singh honeypreet arrested inciting violence erupted panchkula gurmeet ram rahim convicted two rape cases august last year people died panchkula violence\n",
      "실제 요약 : bail plea in riots case rejected\n",
      "예측 요약 :  hc moves hc plea to bail\n",
      "\n",
      "\n",
      "원문 : gurugram police arrested five people seized nearly lakh demonetised notes police said accused tried change old currency notes new ones march police also seized car added noida based resident allegedly given old notes\n",
      "실제 요약 : arrested in gurugram with notes worth lakh\n",
      "예측 요약 :  held for stealing notes in andhra bank\n",
      "\n",
      "\n",
      "원문 : russia based study found whale signature whereas one calls seemed within two months living three adult regularly along young said researchers previous studies found sounds like human speech computer generated\n",
      "실제 요약 : living with found to their language\n",
      "예측 요약 :  brain found in\n",
      "\n",
      "\n",
      "원문 : art teacher pune school arrested monday allegedly hitting year old student face october led boy getting facial child told us teacher hit face bench completing boy family said\n",
      "실제 요약 : student gets after teacher him\n",
      "예측 요약 :  teacher held for sexually assaulting minor in\n",
      "\n",
      "\n",
      "원문 : two people arrested year old dalit man beaten death mob allegedly affair muslim woman rajasthan police said victim succumbed severe injuries thrashed mob also attempted investigation matter underway\n",
      "실제 요약 : dalit man over with muslim woman arrested\n",
      "예측 요약 :  man kills self for in ghaziabad\n",
      "\n",
      "\n",
      "원문 : comptroller auditor general india said akhilesh yadav led sp government uttar pradesh allowed irregularities worth crore according report funds repeatedly issued departments despite failure details money allotted past raj education departments named biggest defaulters\n",
      "실제 요약 : worth crore under akhilesh yadav govt\n",
      "예측 요약 :  govt announces cr for lakh assets\n",
      "\n",
      "\n",
      "원문 : two children raped national capital every day january april total cases reported delhi police data revealed many cases child rape reported city last year police added known victim cases\n",
      "실제 요약 : more than children raped every day in delhi in\n",
      "예측 요약 :  kids in up in up\n",
      "\n",
      "\n",
      "원문 : nigeria military monday released people ties islamist militant group boko haram according reports military arrested thousands fight boko haram insurgency aims create islamic nigeria insurgency killed people forced lakh flee homes\n",
      "실제 요약 : military releases\n",
      "예측 요약 :  pak army chief to fight\n",
      "\n",
      "\n",
      "원문 : delhi cm arvind kejriwal said independence day address politicians keep sons instead imposing restrictions women referring chandigarh stalking case said son influential leader caught committing crime women another leader commented women venture night wish leader\n",
      "실제 요약 : keep freedom for women kejriwal\n",
      "예측 요약 :  will not be kejriwal\n",
      "\n",
      "\n",
      "원문 : managed catch six stands without using hands big bash league match sydney adelaide thursday fan standing near boundary ball hit sydney steve got stuck th team chase\n",
      "실제 요약 : completes catch in without using his hands\n",
      "예측 요약 :  player takes to catch\n",
      "\n",
      "\n",
      "원문 : venezuelan president nicolas maduro sunday said us president donald trump made famous criticising every time love maduro added trump called maduro bad leader dreams becoming dictator imposed sanctions creation assembly venezuela constitution\n",
      "실제 요약 : us president trump has made me leader\n",
      "예측 요약 :  trump calls us president\n",
      "\n",
      "\n",
      "원문 : three time formula one champion lewis hamilton said need ladies asked would want championship race ladies many said hamilton red bull driver daniel wished electric engines suggested teams equal engines\n",
      "실제 요약 : champion calls for more in the\n",
      "예측 요약 :  no at\n",
      "\n",
      "\n",
      "원문 : actress kangana ranaut said following hrithik roshan aditya pancholi earnings gone advertisements offers commercial affected added kangana said wants life inspiration young girls\n",
      "실제 요약 : my are down are kangana\n",
      "예측 요약 :  kangana to be with kangana\n",
      "\n",
      "\n",
      "원문 : anushka sharma said faced age constantly getting dropped shows picked ad would get replaced added anushka said tender age basis look mentally damaging well\n",
      "실제 요약 : have from the age of anushka sharma\n",
      "예측 요약 :  what is the of the of\n",
      "\n",
      "\n",
      "원문 : three policemen injured monday paris protests members asian community killing chinese man police raid turned violent protesters also allegedly set police car fire french police claimed man shot self defence holding time raid\n",
      "실제 요약 : anti police protests turn in france\n",
      "예측 요약 :  police arrest in police\n",
      "\n",
      "\n",
      "원문 : sidharth malhotra talking film remake rajesh khanna film name said compared actor left amazing audience would react added sidharth said went away realised film different original\n",
      "실제 요약 : was about to sidharth on\n",
      "예측 요약 :  sidharth sidharth sidharth\n",
      "\n",
      "\n",
      "원문 : according report consulting ride hailing startups uber ola reduced drivers india new delhi bengaluru seen biggest drop report added said leading better unit economics cab\n",
      "실제 요약 : ola uber india driver by in report\n",
      "예측 요약 :  ola ola to sell for\n",
      "\n",
      "\n",
      "원문 : india coach ravi shastri world highest paid cricket coach survey magazine revealed shastri salary around million per year less top player australia england india australia second ousted south africa russell last list\n",
      "실제 요약 : shastri is world highest paid cricket coach\n",
      "예측 요약 :  shastri dravid to be at india\n",
      "\n",
      "\n",
      "원문 : actor wearing us president donald trump picture german chancellor angela merkel unveiled madame tussauds museum berlin relationship two leaders us president attacking germany trade nato budget contribution\n",
      "실제 요약 : features trump live\n",
      "예측 요약 :  trump on\n",
      "\n",
      "\n",
      "원문 : national champions saina nehwal crashed china open losing respective pre thursday world number nehwal lost japan lost hong kong lee meanwhile pv sindhu face year old china place quarters\n",
      "실제 요약 : crash out of china open\n",
      "예측 요약 :  india world cup with\n",
      "\n",
      "\n",
      "원문 : study conducted institute technology claims year old entrepreneur lie added new ventures highest growth average founder age less high performance startup firms founded year study analysed million people founded businesses least one employee\n",
      "실제 요약 : year old is claims mit study\n",
      "예측 요약 :  to be in global\n",
      "\n",
      "\n",
      "원문 : street food arrested friday allegedly molesting year old foreign national mumbai earlier year accused riding bike woman fled walking home restaurant police said accused confessed molested several women last four five months\n",
      "실제 요약 : mumbai arrested for foreign national\n",
      "예측 요약 :  arrested for in mumbai\n",
      "\n",
      "\n",
      "원문 : benchmark bse sensex nifty closed fresh lifetime wednesday powered india jump world bank ease business list sensex rose points close nifty closed crossing mark first time bharti airtel sbi icici bank hdfc top\n",
      "실제 요약 : sensex at new record\n",
      "예측 요약 :  sensex above for the first time\n",
      "\n",
      "\n",
      "원문 : twenty mobile phones recovered inmates jail jammu kashmir senior police officer said case registered regard investigations progress second time year mobile phones recovered jail found april\n",
      "실제 요약 : from jail in\n",
      "예측 요약 :  google who removes from\n",
      "\n",
      "\n",
      "원문 : vodafone group monday announced ceo step october working company decade succeeded telecom firm current cfo nick read comes less week vodafone announced billion deal buy global cable tv broadband networks germany eastern europe\n",
      "실제 요약 : vodafone ceo to down after\n",
      "예측 요약 :  vodafone idea merger with\n",
      "\n",
      "\n",
      "원문 : former goldman sachs director gupta served two year prison term trading said want apologise iit alumni really live highest standards expected ask understanding gupta said adding one greatest let\n",
      "실제 요약 : seek ex director to iit\n",
      "예측 요약 :  director quits ex director\n",
      "\n",
      "\n",
      "원문 : billionaire investor world fourth richest person warren buffett made annual summer donation berkshire stock worth billion charity sum buffett biggest ever summer donation last year billion gift record donation due rising value berkshire share price past year\n",
      "실제 요약 : billionaire buffett breaks own record donates crore\n"
     ]
    },
    {
     "name": "stdout",
     "output_type": "stream",
     "text": [
      "예측 요약 :  billionaire buffett firm becomes world largest\n",
      "\n",
      "\n",
      "원문 : pack wild denmark first time two centuries female kilometres germany male seen since five years new female could produce spring researcher said female settled west male seen moving nearby\n",
      "실제 요약 : gets st in years\n",
      "예측 요약 :  world oldest discovered in\n",
      "\n",
      "\n",
      "원문 : paul year old indian origin boy tuesday successfully hacked bluetooth devices cybersecurity experts world forum paul controlled bluetooth connected bear via one audience member hacked phones turn toy lights record message demonstrated bluetooth connected toys devices hacked\n",
      "실제 요약 : year old indian origin boy\n",
      "예측 요약 :  indian origin teen makes\n",
      "\n",
      "\n",
      "원문 : amidst congress claims government winter session finance minister arun jaitley wednesday said parliament would regular session one state assembly elections earlier congress claimed government session avoid discussion issues like demonetisation gst due elections\n",
      "실제 요약 : parliament winter not to clash with state polls\n",
      "예측 요약 :  congress has to congress\n",
      "\n",
      "\n",
      "원문 : black money worth crore disclosed people pradhan mantri kalyan yojana income declaration scheme demonetisation government official said department following legal proceedings cases official added department collected crore tax till\n",
      "실제 요약 : people declare cr black money under new scheme\n",
      "예측 요약 :  nirav modi black money in\n",
      "\n",
      "\n",
      "원문 : scientists discovered kilometre wide buried ice sheet northern bigger paris size caused kilometre wide iron struck earth years million years ago first time found one earth ice sheets researchers said\n",
      "실제 요약 : than paris discovered under ice\n",
      "예측 요약 :  scientists ice ice in\n",
      "\n",
      "\n",
      "원문 : uk university scientists claim uncovered largest volcanic region earth addition already known two kilometres antarctic ice sheet new found ranging metres height covered km thick ice km long region antarctica largest ice antarctic peninsula\n",
      "실제 요약 : scientists ice\n",
      "예측 요약 :  scientists new species\n",
      "\n",
      "\n",
      "원문 : textile traders ahmedabad go indefinite strike today protest gst levied cloth traders engaged wholesale retail business expected join strike notably textile traders surat strike since last week\n",
      "실제 요약 : in on strike against gst\n",
      "예측 요약 :  farmers protest against protest against\n",
      "\n",
      "\n",
      "원문 : apparent act online us city new york renamed snapchat snap map snapchat clarified name changed someone third party software use several users took twitter make name change users claimed anti\n",
      "실제 요약 : new york on snapchat\n",
      "예측 요약 :  company apologises for\n",
      "\n",
      "\n",
      "원문 : per report got married bihar practice known led getting married state according police figures bihar reported marriage march year eight cases ransom\n",
      "실제 요약 : got married in bihar at in\n",
      "예측 요약 :  mumbai businessman to girlfriend\n",
      "\n",
      "\n",
      "원문 : former uttarakhand chief minister rawat friday bjp government make compulsory sing national song national anthem thrice day said trying create division country much concerned turn law\n",
      "실제 요약 : bjp to make\n",
      "예측 요약 :  no of national anthem in rajasthan\n",
      "\n",
      "\n",
      "원문 : actor set star astronaut upcoming film chanda door ke feature sushant singh rajput lead role prepared role us space rocket centre putting different space learning new toys added\n",
      "실제 요약 : to star in sushant\n",
      "예측 요약 :  motion poster of unveiled\n",
      "\n",
      "\n",
      "원문 : london based food delivery startup founder ceo may get million uber reported smaller rival days ago reports claimed uber looking buy valuation billion deal would help uber face increased competition eat ordering app\n",
      "실제 요약 : founder may get mn from uber\n",
      "예측 요약 :  uber to buy uber for million\n",
      "\n",
      "\n",
      "원문 : uk canadian said welcome gender comes us president donald trump banned transgender people us military tremendous medical costs disruption reportedly around transgender people serving us military uk canada estimated respectively\n",
      "실제 요약 : uk canada welcome into military post trump ban\n",
      "예측 요약 :  uk to ban on trump\n",
      "\n",
      "\n",
      "원문 : australian captain steve smith got score test india saturday score considered cricketers since set stumps without named british navy officer lord reportedly lost one eye one arm one leg\n",
      "실제 요약 : steve smith gets out on in test\n",
      "예측 요약 :  steve smith test test\n",
      "\n",
      "\n",
      "원문 : many two people killed injured vehicle carrying overturned uttar pradesh district accident happened victims returning village thursday night police said following accident injured admitted hospital\n",
      "실제 요약 : killed injured as vehicle in uttar pradesh\n",
      "예측 요약 :  killed injured in truck in\n",
      "\n",
      "\n",
      "원문 : first russian travelled northern sea route crossing record days without million however used cross one metre thick ice fields carried natural gas norway south korea days conventional route around europe\n",
      "실제 요약 : first ever crosses the without ship\n",
      "예측 요약 :  world largest nuclear\n",
      "\n",
      "\n",
      "원문 : pakistani batsman ahmad took twitter share picture cricket legend wasim working ahead third season pakistan super league dubai play director operations franchise first ever season\n",
      "실제 요약 : pak cricketer shares pic with\n",
      "예측 요약 :  pakistani cricketer calls for\n",
      "\n",
      "\n",
      "원문 : per data released income tax department crore indians total population paid income tax assessment year around crore people filed returns crore actually paying tax total income tax paid declined lakh crore lakh crore\n",
      "실제 요약 : only indians paid income tax in\n",
      "예측 요약 :  tax collection of crore tax\n",
      "\n",
      "\n",
      "원문 : indore named city country followed bhopal chandigarh according centre swachh apart tagged city population lakh declared city population three lakh lakh\n",
      "실제 요약 : city in india bharat survey\n",
      "예측 요약 :  in india\n",
      "\n",
      "\n",
      "원문 : amid economic crisis argentina central bank thursday raised benchmark interest percentage points highest world argentine year dollar country inflation running president asked early release billion loan imf\n",
      "실제 요약 : interest rate to highest in the world\n",
      "예측 요약 :  sbi of crore in\n",
      "\n",
      "\n",
      "원문 : sonam kapoor married delhi based businessman anand ahuja traditional sikh wedding ceremony tuesday following ceremony newly couple also cut cake showed bride pulling away groom basketball court wedding attended kareena kapoor saif ali khan along son karan johar aamir khan among others\n",
      "실제 요약 : in pictures sonam kapoor and anand wedding\n",
      "예측 요약 :  to marry boyfriend in\n",
      "\n",
      "\n"
     ]
    }
   ],
   "source": [
    "for i in range(50, 100):\n",
    "    print(\"원문 :\", seq2text(encoder_input_test[i]))\n",
    "    print(\"실제 요약 :\", seq2summary(decoder_input_test[i]))\n",
    "    print(\"예측 요약 :\", decode_sequence(encoder_input_test[i].reshape(1, text_max_len)))\n",
    "    print(\"\\n\")"
   ]
  },
  {
   "cell_type": "code",
   "execution_count": 79,
   "id": "79e8460f",
   "metadata": {},
   "outputs": [],
   "source": [
    "import requests\n",
    "from summa.summarizer import summarize"
   ]
  },
  {
   "cell_type": "code",
   "execution_count": 80,
   "id": "a364adec",
   "metadata": {},
   "outputs": [],
   "source": [
    "text = requests.get('http://rare-technologies.com/the_matrix_synopsis.txt').text"
   ]
  },
  {
   "cell_type": "code",
   "execution_count": 81,
   "id": "ba6fbacd",
   "metadata": {},
   "outputs": [
    {
     "name": "stdout",
     "output_type": "stream",
     "text": [
      "The screen is filled with green, cascading code which gives way to the title, The Matrix.\r\n",
      "\r\n",
      "A phone rings and text appears on the screen: \"Call trans opt: received. 2-19-98 13:24:18 REC: Log>\" As a conversation takes place between Trinity (Carrie-Anne Moss) and Cypher (Joe Pantoliano), two free humans, a table of random green numbers are being scanned and individual numbers selected, creating a series of digits not unlike an ordinary phone number, as if a code is being deciphered or a call is being traced.\r\n",
      "\r\n",
      "Trinity discusses some unknown person. Cypher taunts Trinity, suggesting she enjoys watching him. Trinity counters that \"Morpheus (Laurence Fishburne) says he may be 'the One',\" just as the sound of a number being selected alerts Trinity that someone may be tracing their call. She ends the call.\r\n",
      "\r\n",
      "Armed policemen move down a darkened, decrepit hallway in the Heart O' the City Hotel, their flashlight beam bouncing just ahead of them. They come to room 303, kick down the door and find a woman dressed in black, facing away from them. It's Trinity. She brings her hands up from the laptop she's working on at their command.\r\n",
      "\r\n",
      "Outside the hotel a car drives up and three agents appear in neatly pressed black suits. They are Agent Smith (Hugo Weaving), Agent Brown (Paul Goddard), and Agent Jones (Robert Taylor). Agent Smith and the presiding police lieutenant argue. Agent Smith admonishes the policeman that they were given specific orders to contact the agents first, for their\n"
     ]
    }
   ],
   "source": [
    "print(text[:1500])"
   ]
  },
  {
   "cell_type": "code",
   "execution_count": 82,
   "id": "f3492275",
   "metadata": {},
   "outputs": [
    {
     "name": "stdout",
     "output_type": "stream",
     "text": [
      "Summary:\n",
      "Morpheus, Trinity, Neo, Apoc, Switch, Mouse and Cypher are jacked into the Matrix.\n",
      "Trinity brings the helicopter down to the floor that Morpheus is on and Neo opens fire on the three Agents.\n"
     ]
    }
   ],
   "source": [
    "print('Summary:')\n",
    "print(summarize(text, ratio=0.005))"
   ]
  },
  {
   "cell_type": "code",
   "execution_count": 83,
   "id": "222dc933",
   "metadata": {},
   "outputs": [
    {
     "name": "stdout",
     "output_type": "stream",
     "text": [
      "Summary:\n",
      "['Morpheus, Trinity, Neo, Apoc, Switch, Mouse and Cypher are jacked into the Matrix.', 'Trinity brings the helicopter down to the floor that Morpheus is on and Neo opens fire on the three Agents.']\n"
     ]
    }
   ],
   "source": [
    "print('Summary:')\n",
    "print(summarize(text, ratio=0.005, split=True))"
   ]
  },
  {
   "cell_type": "code",
   "execution_count": 84,
   "id": "9ba8405b",
   "metadata": {},
   "outputs": [
    {
     "name": "stdout",
     "output_type": "stream",
     "text": [
      "Summary:\n",
      "Trinity takes Neo to Morpheus.\n",
      "Morpheus, Trinity, Neo, Apoc, Switch, Mouse and Cypher are jacked into the Matrix.\n",
      "Trinity brings the helicopter down to the floor that Morpheus is on and Neo opens fire on the three Agents.\n"
     ]
    }
   ],
   "source": [
    "print('Summary:')\n",
    "print(summarize(text, words=50))"
   ]
  },
  {
   "cell_type": "code",
   "execution_count": null,
   "id": "aa9d6b19",
   "metadata": {},
   "outputs": [],
   "source": []
  }
 ],
 "metadata": {
  "kernelspec": {
   "display_name": "Python 3 (ipykernel)",
   "language": "python",
   "name": "python3"
  },
  "language_info": {
   "codemirror_mode": {
    "name": "ipython",
    "version": 3
   },
   "file_extension": ".py",
   "mimetype": "text/x-python",
   "name": "python",
   "nbconvert_exporter": "python",
   "pygments_lexer": "ipython3",
   "version": "3.9.7"
  }
 },
 "nbformat": 4,
 "nbformat_minor": 5
}
